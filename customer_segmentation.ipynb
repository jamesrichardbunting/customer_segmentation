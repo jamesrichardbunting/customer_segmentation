{
 "cells": [
  {
   "cell_type": "markdown",
   "metadata": {},
   "source": [
    "## **Imports**"
   ]
  },
  {
   "cell_type": "code",
   "execution_count": 2,
   "metadata": {
    "metadata": {}
   },
   "outputs": [
    {
     "name": "stdout",
     "output_type": "stream",
     "text": [
      "Requirement already satisfied: lxml in /home/codespace/.python/current/lib/python3.12/site-packages (5.3.0)\n",
      "Note: you may need to restart the kernel to use updated packages.\n",
      "Requirement already satisfied: requests in /home/codespace/.local/lib/python3.12/site-packages (2.32.3)\n",
      "Requirement already satisfied: charset-normalizer<4,>=2 in /home/codespace/.local/lib/python3.12/site-packages (from requests) (3.3.2)\n",
      "Requirement already satisfied: idna<4,>=2.5 in /home/codespace/.local/lib/python3.12/site-packages (from requests) (3.7)\n",
      "Requirement already satisfied: urllib3<3,>=1.21.1 in /home/codespace/.local/lib/python3.12/site-packages (from requests) (2.2.2)\n",
      "Requirement already satisfied: certifi>=2017.4.17 in /home/codespace/.local/lib/python3.12/site-packages (from requests) (2024.7.4)\n",
      "Note: you may need to restart the kernel to use updated packages.\n"
     ]
    }
   ],
   "source": [
    "# Imports\n",
    "import pandas as pd  # Data manipulation and analysis\n",
    "import numpy as np   # Support for large, multi-dimensional arrays and matrices\n",
    "import os            # Interfacing with the operating system\n",
    "%pip install lxml    # Install lxml library for XML and HTML processing\n",
    "from lxml import etree  # XML and HTML manipulation\n",
    "%pip install requests # Install requests library for HTTP operations\n",
    "import requests      # Library to make HTTP requests\n",
    "import xml.etree.ElementTree as ET  # XML parsing and manipulation\n",
    "from collections import defaultdict  # Dictionary that provides a default value for missing keys\n",
    "import seaborn as sns\n",
    "import matplotlib.pyplot as plt\n"
   ]
  },
  {
   "cell_type": "markdown",
   "metadata": {},
   "source": [
    "## **Load and inspect data**"
   ]
  },
  {
   "cell_type": "code",
   "execution_count": 3,
   "metadata": {
    "metadata": {}
   },
   "outputs": [
    {
     "name": "stdout",
     "output_type": "stream",
     "text": [
      "<class 'pandas.core.frame.DataFrame'>\n",
      "RangeIndex: 19972 entries, 0 to 19971\n",
      "Data columns (total 13 columns):\n",
      " #   Column                 Non-Null Count  Dtype \n",
      "---  ------                 --------------  ----- \n",
      " 0   BusinessEntityID       19972 non-null  int64 \n",
      " 1   PersonType             19972 non-null  object\n",
      " 2   NameStyle              19972 non-null  bool  \n",
      " 3   Title                  1009 non-null   object\n",
      " 4   FirstName              19972 non-null  object\n",
      " 5   MiddleName             11473 non-null  object\n",
      " 6   LastName               19972 non-null  object\n",
      " 7   Suffix                 53 non-null     object\n",
      " 8   EmailPromotion         19972 non-null  int64 \n",
      " 9   AdditionalContactInfo  10 non-null     object\n",
      " 10  Demographics           19972 non-null  object\n",
      " 11  rowguid                19972 non-null  object\n",
      " 12  ModifiedDate           19972 non-null  object\n",
      "dtypes: bool(1), int64(2), object(10)\n",
      "memory usage: 1.8+ MB\n"
     ]
    }
   ],
   "source": [
    "# Load from csv\n",
    "person = pd.read_csv('data/Person Person.csv', delimiter=',')\n",
    "\n",
    "# Inspect columns\n",
    "person.info()"
   ]
  },
  {
   "cell_type": "code",
   "execution_count": 4,
   "metadata": {
    "metadata": {}
   },
   "outputs": [
    {
     "data": {
      "text/html": [
       "<div>\n",
       "<style scoped>\n",
       "    .dataframe tbody tr th:only-of-type {\n",
       "        vertical-align: middle;\n",
       "    }\n",
       "\n",
       "    .dataframe tbody tr th {\n",
       "        vertical-align: top;\n",
       "    }\n",
       "\n",
       "    .dataframe thead th {\n",
       "        text-align: right;\n",
       "    }\n",
       "</style>\n",
       "<table border=\"1\" class=\"dataframe\">\n",
       "  <thead>\n",
       "    <tr style=\"text-align: right;\">\n",
       "      <th></th>\n",
       "      <th>BusinessEntityID</th>\n",
       "      <th>PersonType</th>\n",
       "      <th>NameStyle</th>\n",
       "      <th>Title</th>\n",
       "      <th>FirstName</th>\n",
       "      <th>MiddleName</th>\n",
       "      <th>LastName</th>\n",
       "      <th>Suffix</th>\n",
       "      <th>EmailPromotion</th>\n",
       "      <th>AdditionalContactInfo</th>\n",
       "      <th>Demographics</th>\n",
       "      <th>rowguid</th>\n",
       "      <th>ModifiedDate</th>\n",
       "    </tr>\n",
       "  </thead>\n",
       "  <tbody>\n",
       "    <tr>\n",
       "      <th>0</th>\n",
       "      <td>1722</td>\n",
       "      <td>IN</td>\n",
       "      <td>False</td>\n",
       "      <td>NaN</td>\n",
       "      <td>Mandar</td>\n",
       "      <td>NaN</td>\n",
       "      <td>Samant</td>\n",
       "      <td>NaN</td>\n",
       "      <td>0</td>\n",
       "      <td>NaN</td>\n",
       "      <td>&lt;IndividualSurvey xmlns=\"http://schemas.micros...</td>\n",
       "      <td>6F123B92-FF1E-4F18-A054-F1477D965B36</td>\n",
       "      <td>2013-04-08 00:00:00.000</td>\n",
       "    </tr>\n",
       "    <tr>\n",
       "      <th>1</th>\n",
       "      <td>2389</td>\n",
       "      <td>IN</td>\n",
       "      <td>False</td>\n",
       "      <td>NaN</td>\n",
       "      <td>Laura</td>\n",
       "      <td>NaN</td>\n",
       "      <td>Liu</td>\n",
       "      <td>NaN</td>\n",
       "      <td>0</td>\n",
       "      <td>NaN</td>\n",
       "      <td>&lt;IndividualSurvey xmlns=\"http://schemas.micros...</td>\n",
       "      <td>0BB7741C-53C5-4502-AABC-AA3E798EC6E7</td>\n",
       "      <td>2013-09-04 00:00:00.000</td>\n",
       "    </tr>\n",
       "    <tr>\n",
       "      <th>2</th>\n",
       "      <td>2391</td>\n",
       "      <td>IN</td>\n",
       "      <td>False</td>\n",
       "      <td>NaN</td>\n",
       "      <td>Laura</td>\n",
       "      <td>NaN</td>\n",
       "      <td>Wu</td>\n",
       "      <td>NaN</td>\n",
       "      <td>0</td>\n",
       "      <td>NaN</td>\n",
       "      <td>&lt;IndividualSurvey xmlns=\"http://schemas.micros...</td>\n",
       "      <td>D2535AEE-7780-4CAC-9737-5D23895FD5B5</td>\n",
       "      <td>2012-04-20 00:00:00.000</td>\n",
       "    </tr>\n",
       "    <tr>\n",
       "      <th>3</th>\n",
       "      <td>2397</td>\n",
       "      <td>IN</td>\n",
       "      <td>False</td>\n",
       "      <td>NaN</td>\n",
       "      <td>Isabella</td>\n",
       "      <td>NaN</td>\n",
       "      <td>Cox</td>\n",
       "      <td>NaN</td>\n",
       "      <td>0</td>\n",
       "      <td>NaN</td>\n",
       "      <td>&lt;IndividualSurvey xmlns=\"http://schemas.micros...</td>\n",
       "      <td>09FB996B-2BD4-454F-A9D2-F0F307D13039</td>\n",
       "      <td>2013-10-06 00:00:00.000</td>\n",
       "    </tr>\n",
       "    <tr>\n",
       "      <th>4</th>\n",
       "      <td>2401</td>\n",
       "      <td>IN</td>\n",
       "      <td>False</td>\n",
       "      <td>NaN</td>\n",
       "      <td>Laura</td>\n",
       "      <td>NaN</td>\n",
       "      <td>Gao</td>\n",
       "      <td>NaN</td>\n",
       "      <td>0</td>\n",
       "      <td>NaN</td>\n",
       "      <td>&lt;IndividualSurvey xmlns=\"http://schemas.micros...</td>\n",
       "      <td>D319CB69-2139-4F0C-AEA6-541B3D5B0412</td>\n",
       "      <td>2014-05-15 00:00:00.000</td>\n",
       "    </tr>\n",
       "  </tbody>\n",
       "</table>\n",
       "</div>"
      ],
      "text/plain": [
       "   BusinessEntityID PersonType  NameStyle Title FirstName MiddleName LastName  \\\n",
       "0              1722         IN      False   NaN    Mandar        NaN   Samant   \n",
       "1              2389         IN      False   NaN     Laura        NaN      Liu   \n",
       "2              2391         IN      False   NaN     Laura        NaN       Wu   \n",
       "3              2397         IN      False   NaN  Isabella        NaN      Cox   \n",
       "4              2401         IN      False   NaN     Laura        NaN      Gao   \n",
       "\n",
       "  Suffix  EmailPromotion AdditionalContactInfo  \\\n",
       "0    NaN               0                   NaN   \n",
       "1    NaN               0                   NaN   \n",
       "2    NaN               0                   NaN   \n",
       "3    NaN               0                   NaN   \n",
       "4    NaN               0                   NaN   \n",
       "\n",
       "                                        Demographics  \\\n",
       "0  <IndividualSurvey xmlns=\"http://schemas.micros...   \n",
       "1  <IndividualSurvey xmlns=\"http://schemas.micros...   \n",
       "2  <IndividualSurvey xmlns=\"http://schemas.micros...   \n",
       "3  <IndividualSurvey xmlns=\"http://schemas.micros...   \n",
       "4  <IndividualSurvey xmlns=\"http://schemas.micros...   \n",
       "\n",
       "                                rowguid             ModifiedDate  \n",
       "0  6F123B92-FF1E-4F18-A054-F1477D965B36  2013-04-08 00:00:00.000  \n",
       "1  0BB7741C-53C5-4502-AABC-AA3E798EC6E7  2013-09-04 00:00:00.000  \n",
       "2  D2535AEE-7780-4CAC-9737-5D23895FD5B5  2012-04-20 00:00:00.000  \n",
       "3  09FB996B-2BD4-454F-A9D2-F0F307D13039  2013-10-06 00:00:00.000  \n",
       "4  D319CB69-2139-4F0C-AEA6-541B3D5B0412  2014-05-15 00:00:00.000  "
      ]
     },
     "execution_count": 4,
     "metadata": {},
     "output_type": "execute_result"
    }
   ],
   "source": [
    "# Inspect data\n",
    "person.head()"
   ]
  },
  {
   "cell_type": "markdown",
   "metadata": {},
   "source": [
    "> ☝ **Findings** and⚡ **Actions**:\n",
    "\n",
    "1. There are a number of columns with high proportions of missing values: `Title`, `Suffix`, `AdditionalContactInfo`. Based on the column names, it's unlikely these will be useful for segmentation so I can remove them. \n",
    "2. Columns recording name information (`Firstname`, `MiddleName`, `LastName`) won't be needed for this project either, so I can remove these too. \n",
    "3. The `PersonType` column contains descriptive labels about each person's relationship to AdventureWorks. For initial analysis, I'll concentrate on \"individual customers\" (those with an \"IN\" value) so I'll subset out these individuals. \n",
    "4. The `Demographics` column contains XML values with demographic information that will be useful for segmentation. In order to work with the information, I'll need to extract it from XML format into structured columns.  "
   ]
  },
  {
   "cell_type": "markdown",
   "metadata": {},
   "source": [
    "## **Subset and prepare data**"
   ]
  },
  {
   "cell_type": "code",
   "execution_count": 5,
   "metadata": {},
   "outputs": [
    {
     "data": {
      "text/html": [
       "<div>\n",
       "<style scoped>\n",
       "    .dataframe tbody tr th:only-of-type {\n",
       "        vertical-align: middle;\n",
       "    }\n",
       "\n",
       "    .dataframe tbody tr th {\n",
       "        vertical-align: top;\n",
       "    }\n",
       "\n",
       "    .dataframe thead th {\n",
       "        text-align: right;\n",
       "    }\n",
       "</style>\n",
       "<table border=\"1\" class=\"dataframe\">\n",
       "  <thead>\n",
       "    <tr style=\"text-align: right;\">\n",
       "      <th></th>\n",
       "      <th>BusinessEntityID</th>\n",
       "      <th>EmailPromotion</th>\n",
       "      <th>Demographics</th>\n",
       "      <th>rowguid</th>\n",
       "      <th>ModifiedDate</th>\n",
       "    </tr>\n",
       "  </thead>\n",
       "  <tbody>\n",
       "    <tr>\n",
       "      <th>0</th>\n",
       "      <td>1722</td>\n",
       "      <td>0</td>\n",
       "      <td>&lt;IndividualSurvey xmlns=\"http://schemas.micros...</td>\n",
       "      <td>6F123B92-FF1E-4F18-A054-F1477D965B36</td>\n",
       "      <td>2013-04-08 00:00:00.000</td>\n",
       "    </tr>\n",
       "    <tr>\n",
       "      <th>1</th>\n",
       "      <td>2389</td>\n",
       "      <td>0</td>\n",
       "      <td>&lt;IndividualSurvey xmlns=\"http://schemas.micros...</td>\n",
       "      <td>0BB7741C-53C5-4502-AABC-AA3E798EC6E7</td>\n",
       "      <td>2013-09-04 00:00:00.000</td>\n",
       "    </tr>\n",
       "    <tr>\n",
       "      <th>2</th>\n",
       "      <td>2391</td>\n",
       "      <td>0</td>\n",
       "      <td>&lt;IndividualSurvey xmlns=\"http://schemas.micros...</td>\n",
       "      <td>D2535AEE-7780-4CAC-9737-5D23895FD5B5</td>\n",
       "      <td>2012-04-20 00:00:00.000</td>\n",
       "    </tr>\n",
       "    <tr>\n",
       "      <th>3</th>\n",
       "      <td>2397</td>\n",
       "      <td>0</td>\n",
       "      <td>&lt;IndividualSurvey xmlns=\"http://schemas.micros...</td>\n",
       "      <td>09FB996B-2BD4-454F-A9D2-F0F307D13039</td>\n",
       "      <td>2013-10-06 00:00:00.000</td>\n",
       "    </tr>\n",
       "    <tr>\n",
       "      <th>4</th>\n",
       "      <td>2401</td>\n",
       "      <td>0</td>\n",
       "      <td>&lt;IndividualSurvey xmlns=\"http://schemas.micros...</td>\n",
       "      <td>D319CB69-2139-4F0C-AEA6-541B3D5B0412</td>\n",
       "      <td>2014-05-15 00:00:00.000</td>\n",
       "    </tr>\n",
       "  </tbody>\n",
       "</table>\n",
       "</div>"
      ],
      "text/plain": [
       "   BusinessEntityID  EmailPromotion  \\\n",
       "0              1722               0   \n",
       "1              2389               0   \n",
       "2              2391               0   \n",
       "3              2397               0   \n",
       "4              2401               0   \n",
       "\n",
       "                                        Demographics  \\\n",
       "0  <IndividualSurvey xmlns=\"http://schemas.micros...   \n",
       "1  <IndividualSurvey xmlns=\"http://schemas.micros...   \n",
       "2  <IndividualSurvey xmlns=\"http://schemas.micros...   \n",
       "3  <IndividualSurvey xmlns=\"http://schemas.micros...   \n",
       "4  <IndividualSurvey xmlns=\"http://schemas.micros...   \n",
       "\n",
       "                                rowguid             ModifiedDate  \n",
       "0  6F123B92-FF1E-4F18-A054-F1477D965B36  2013-04-08 00:00:00.000  \n",
       "1  0BB7741C-53C5-4502-AABC-AA3E798EC6E7  2013-09-04 00:00:00.000  \n",
       "2  D2535AEE-7780-4CAC-9737-5D23895FD5B5  2012-04-20 00:00:00.000  \n",
       "3  09FB996B-2BD4-454F-A9D2-F0F307D13039  2013-10-06 00:00:00.000  \n",
       "4  D319CB69-2139-4F0C-AEA6-541B3D5B0412  2014-05-15 00:00:00.000  "
      ]
     },
     "execution_count": 5,
     "metadata": {},
     "output_type": "execute_result"
    }
   ],
   "source": [
    "# Drop columns\n",
    "person = person.drop(['NameStyle',\n",
    "                      'Title',\n",
    "                      'FirstName',\n",
    "                      'MiddleName',\n",
    "                      'LastName',\n",
    "                      'Suffix',\n",
    "                      'AdditionalContactInfo'], axis = 1)\n",
    "\n",
    "# Subset individual customers\n",
    "person_in = person[person['PersonType']=='IN']\n",
    "\n",
    "# Drop PersonType column, which is no longer needed\n",
    "person_in = person_in.drop('PersonType', axis = 1)\n",
    "\n",
    "# Reset row indices to allow for concatenation later\n",
    "person_in.reset_index(inplace=True, drop=True)\n",
    "\n",
    "# Inspect data\n",
    "person_in.head()\n"
   ]
  },
  {
   "cell_type": "markdown",
   "metadata": {},
   "source": [
    "> ☝ **Findings** and⚡ **Actions**:\n",
    "\n",
    "1. The `Demographics` column is in XML; a flexible format for storing data in a tree-like structure. \n",
    "2. I need to parse the XML values and extract data into new columns. The function below is designed to do that. "
   ]
  },
  {
   "cell_type": "code",
   "execution_count": 6,
   "metadata": {},
   "outputs": [],
   "source": [
    "# Function to parse XML and extract all items\n",
    "def xml_to_columns(xml_string):\n",
    "    # Namespace for schema\n",
    "    ns = {'aw': 'http://schemas.microsoft.com/sqlserver/2004/07/adventure-works/IndividualSurvey'}\n",
    "    \n",
    "    # Parse the XML string into a tree structure\n",
    "    tree = ET.fromstring(xml_string)\n",
    "    \n",
    "    # Initialize a dictionary to store items, defaulting missing entries to None\n",
    "    items = defaultdict(lambda: None)\n",
    "    \n",
    "    # Iterate through each element in the XML tree, using the namespace map\n",
    "    for element in tree.findall('.//aw:*', namespaces=ns):\n",
    "        # Extract the tag and remove the namespace information for clarity\n",
    "        tag = element.tag.split('}')[-1]  \n",
    "        # Store the element's text content under the tag in the items dictionary\n",
    "        items[tag] = element.text\n",
    "    \n",
    "    return pd.Series(items)"
   ]
  },
  {
   "cell_type": "code",
   "execution_count": 7,
   "metadata": {},
   "outputs": [
    {
     "data": {
      "text/html": [
       "<div>\n",
       "<style scoped>\n",
       "    .dataframe tbody tr th:only-of-type {\n",
       "        vertical-align: middle;\n",
       "    }\n",
       "\n",
       "    .dataframe tbody tr th {\n",
       "        vertical-align: top;\n",
       "    }\n",
       "\n",
       "    .dataframe thead th {\n",
       "        text-align: right;\n",
       "    }\n",
       "</style>\n",
       "<table border=\"1\" class=\"dataframe\">\n",
       "  <thead>\n",
       "    <tr style=\"text-align: right;\">\n",
       "      <th></th>\n",
       "      <th>BusinessEntityID</th>\n",
       "      <th>EmailPromotion</th>\n",
       "      <th>rowguid</th>\n",
       "      <th>ModifiedDate</th>\n",
       "      <th>TotalPurchaseYTD</th>\n",
       "      <th>DateFirstPurchase</th>\n",
       "      <th>BirthDate</th>\n",
       "      <th>MaritalStatus</th>\n",
       "      <th>YearlyIncome</th>\n",
       "      <th>Gender</th>\n",
       "      <th>TotalChildren</th>\n",
       "      <th>NumberChildrenAtHome</th>\n",
       "      <th>Education</th>\n",
       "      <th>Occupation</th>\n",
       "      <th>HomeOwnerFlag</th>\n",
       "      <th>NumberCarsOwned</th>\n",
       "      <th>CommuteDistance</th>\n",
       "    </tr>\n",
       "  </thead>\n",
       "  <tbody>\n",
       "    <tr>\n",
       "      <th>0</th>\n",
       "      <td>1722</td>\n",
       "      <td>0</td>\n",
       "      <td>6F123B92-FF1E-4F18-A054-F1477D965B36</td>\n",
       "      <td>2013-04-08 00:00:00.000</td>\n",
       "      <td>3499.8504</td>\n",
       "      <td>2003-05-10Z</td>\n",
       "      <td>1974-09-18Z</td>\n",
       "      <td>S</td>\n",
       "      <td>0-25000</td>\n",
       "      <td>F</td>\n",
       "      <td>0</td>\n",
       "      <td>0</td>\n",
       "      <td>Partial High School</td>\n",
       "      <td>Manual</td>\n",
       "      <td>0</td>\n",
       "      <td>2</td>\n",
       "      <td>0-1 Miles</td>\n",
       "    </tr>\n",
       "    <tr>\n",
       "      <th>1</th>\n",
       "      <td>2389</td>\n",
       "      <td>0</td>\n",
       "      <td>0BB7741C-53C5-4502-AABC-AA3E798EC6E7</td>\n",
       "      <td>2013-09-04 00:00:00.000</td>\n",
       "      <td>1085.5</td>\n",
       "      <td>2003-10-06Z</td>\n",
       "      <td>1967-10-05Z</td>\n",
       "      <td>S</td>\n",
       "      <td>25001-50000</td>\n",
       "      <td>F</td>\n",
       "      <td>5</td>\n",
       "      <td>5</td>\n",
       "      <td>High School</td>\n",
       "      <td>Skilled Manual</td>\n",
       "      <td>1</td>\n",
       "      <td>3</td>\n",
       "      <td>10+ Miles</td>\n",
       "    </tr>\n",
       "    <tr>\n",
       "      <th>2</th>\n",
       "      <td>2391</td>\n",
       "      <td>0</td>\n",
       "      <td>D2535AEE-7780-4CAC-9737-5D23895FD5B5</td>\n",
       "      <td>2012-04-20 00:00:00.000</td>\n",
       "      <td>36.59</td>\n",
       "      <td>2002-05-22Z</td>\n",
       "      <td>1973-10-21Z</td>\n",
       "      <td>S</td>\n",
       "      <td>greater than 100000</td>\n",
       "      <td>F</td>\n",
       "      <td>0</td>\n",
       "      <td>5</td>\n",
       "      <td>Partial College</td>\n",
       "      <td>Management</td>\n",
       "      <td>1</td>\n",
       "      <td>3</td>\n",
       "      <td>10+ Miles</td>\n",
       "    </tr>\n",
       "    <tr>\n",
       "      <th>3</th>\n",
       "      <td>2397</td>\n",
       "      <td>0</td>\n",
       "      <td>09FB996B-2BD4-454F-A9D2-F0F307D13039</td>\n",
       "      <td>2013-10-06 00:00:00.000</td>\n",
       "      <td>-3.99</td>\n",
       "      <td>2003-11-07Z</td>\n",
       "      <td>1978-08-28Z</td>\n",
       "      <td>S</td>\n",
       "      <td>25001-50000</td>\n",
       "      <td>F</td>\n",
       "      <td>0</td>\n",
       "      <td>0</td>\n",
       "      <td>Partial High School</td>\n",
       "      <td>Clerical</td>\n",
       "      <td>1</td>\n",
       "      <td>2</td>\n",
       "      <td>5-10 Miles</td>\n",
       "    </tr>\n",
       "    <tr>\n",
       "      <th>4</th>\n",
       "      <td>2401</td>\n",
       "      <td>0</td>\n",
       "      <td>D319CB69-2139-4F0C-AEA6-541B3D5B0412</td>\n",
       "      <td>2014-05-15 00:00:00.000</td>\n",
       "      <td>12.99</td>\n",
       "      <td>2004-06-15Z</td>\n",
       "      <td>1939-11-03Z</td>\n",
       "      <td>M</td>\n",
       "      <td>25001-50000</td>\n",
       "      <td>F</td>\n",
       "      <td>2</td>\n",
       "      <td>0</td>\n",
       "      <td>Bachelors</td>\n",
       "      <td>Management</td>\n",
       "      <td>1</td>\n",
       "      <td>2</td>\n",
       "      <td>5-10 Miles</td>\n",
       "    </tr>\n",
       "  </tbody>\n",
       "</table>\n",
       "</div>"
      ],
      "text/plain": [
       "   BusinessEntityID  EmailPromotion                               rowguid  \\\n",
       "0              1722               0  6F123B92-FF1E-4F18-A054-F1477D965B36   \n",
       "1              2389               0  0BB7741C-53C5-4502-AABC-AA3E798EC6E7   \n",
       "2              2391               0  D2535AEE-7780-4CAC-9737-5D23895FD5B5   \n",
       "3              2397               0  09FB996B-2BD4-454F-A9D2-F0F307D13039   \n",
       "4              2401               0  D319CB69-2139-4F0C-AEA6-541B3D5B0412   \n",
       "\n",
       "              ModifiedDate TotalPurchaseYTD DateFirstPurchase    BirthDate  \\\n",
       "0  2013-04-08 00:00:00.000        3499.8504       2003-05-10Z  1974-09-18Z   \n",
       "1  2013-09-04 00:00:00.000           1085.5       2003-10-06Z  1967-10-05Z   \n",
       "2  2012-04-20 00:00:00.000            36.59       2002-05-22Z  1973-10-21Z   \n",
       "3  2013-10-06 00:00:00.000            -3.99       2003-11-07Z  1978-08-28Z   \n",
       "4  2014-05-15 00:00:00.000            12.99       2004-06-15Z  1939-11-03Z   \n",
       "\n",
       "  MaritalStatus         YearlyIncome Gender TotalChildren  \\\n",
       "0             S              0-25000      F             0   \n",
       "1             S          25001-50000      F             5   \n",
       "2             S  greater than 100000      F             0   \n",
       "3             S          25001-50000      F             0   \n",
       "4             M          25001-50000      F             2   \n",
       "\n",
       "  NumberChildrenAtHome            Education      Occupation HomeOwnerFlag  \\\n",
       "0                    0  Partial High School          Manual             0   \n",
       "1                    5          High School  Skilled Manual             1   \n",
       "2                    5      Partial College      Management             1   \n",
       "3                    0  Partial High School        Clerical             1   \n",
       "4                    0           Bachelors       Management             1   \n",
       "\n",
       "  NumberCarsOwned CommuteDistance  \n",
       "0               2       0-1 Miles  \n",
       "1               3       10+ Miles  \n",
       "2               3       10+ Miles  \n",
       "3               2      5-10 Miles  \n",
       "4               2      5-10 Miles  "
      ]
     },
     "execution_count": 7,
     "metadata": {},
     "output_type": "execute_result"
    }
   ],
   "source": [
    "# Apply the function \n",
    "extracted_xml_columns = person_in['Demographics'].apply(xml_to_columns)\n",
    "\n",
    "# Concatenate the newly columns back onto the original dataframe\n",
    "person_in = person_in.join(extracted_xml_columns)\n",
    "\n",
    "# Drop the original Demographics columns, which is no longer needed\n",
    "person_in = person_in.drop(['Demographics'], axis = 1)\n",
    "\n",
    "# Inspect\n",
    "person_in.head()"
   ]
  },
  {
   "cell_type": "markdown",
   "metadata": {},
   "source": [
    "> ☝ **Findings** and⚡ **Actions**:\n",
    "\n",
    "1. After extraction from XML, values are treated as strings by default. \n",
    "2. Therefore data type conversions will be needed to make these fields suitable for further analysis.  \n"
   ]
  },
  {
   "cell_type": "markdown",
   "metadata": {},
   "source": [
    "## **Pre-process and transform data**"
   ]
  },
  {
   "cell_type": "code",
   "execution_count": 8,
   "metadata": {},
   "outputs": [
    {
     "name": "stdout",
     "output_type": "stream",
     "text": [
      "<class 'pandas.core.frame.DataFrame'>\n",
      "RangeIndex: 18484 entries, 0 to 18483\n",
      "Data columns (total 17 columns):\n",
      " #   Column                Non-Null Count  Dtype \n",
      "---  ------                --------------  ----- \n",
      " 0   BusinessEntityID      18484 non-null  int64 \n",
      " 1   EmailPromotion        18484 non-null  int64 \n",
      " 2   rowguid               18484 non-null  object\n",
      " 3   ModifiedDate          18484 non-null  object\n",
      " 4   TotalPurchaseYTD      18484 non-null  object\n",
      " 5   DateFirstPurchase     18484 non-null  object\n",
      " 6   BirthDate             18484 non-null  object\n",
      " 7   MaritalStatus         18484 non-null  object\n",
      " 8   YearlyIncome          18484 non-null  object\n",
      " 9   Gender                18484 non-null  object\n",
      " 10  TotalChildren         18484 non-null  object\n",
      " 11  NumberChildrenAtHome  18484 non-null  object\n",
      " 12  Education             18484 non-null  object\n",
      " 13  Occupation            18484 non-null  object\n",
      " 14  HomeOwnerFlag         18484 non-null  object\n",
      " 15  NumberCarsOwned       18484 non-null  object\n",
      " 16  CommuteDistance       18484 non-null  object\n",
      "dtypes: int64(2), object(15)\n",
      "memory usage: 2.4+ MB\n"
     ]
    }
   ],
   "source": [
    "# Inspect columns\n",
    "person_in.info()"
   ]
  },
  {
   "cell_type": "markdown",
   "metadata": {},
   "source": [
    "> ☝ **Findings** and⚡ **Actions**:\n",
    "\n",
    "As expected, all the newly extracted fields are `object` type. After checking the values, these are the data type transformations needed to make them suitable for modelling. \n",
    "\n",
    "1. **Floats**\n",
    "    - `TotalPurchaseYTD`\n",
    "\n",
    "2. **Dates**\n",
    "    - `DateFirstPurchase`\t\n",
    "    - `BirthDate`\n",
    "    - `ModifiedDate`\n",
    "\n",
    "3. **Categories**\n",
    "    - `EmailPromotion` # This feature is not from the XML string but it should be represented as a category instead of int\n",
    "    - `BusinessEntityID`\n",
    "    - `MaritalStatus`\t\n",
    "    - `YearlyIncome`\t\n",
    "    - `Gender`\n",
    "    - `Education`\t\n",
    "    - `Occupation`\n",
    "    - `CommuteDistance`\n",
    "\n",
    "4. **Integers**\n",
    "    - `TotalChildren`\t\n",
    "    - `NumberChildrenAtHome`\n",
    "    - `HomeOwnerFlag`\t\n",
    "    - `NumberCarsOwned`\n",
    "\n",
    "\n",
    "Additionally, some of these values will not be very useful in their raw form but can be used to derive more meaningful features (eg, customer birthdays are less useful than age for understanding behaviour). After data type conversions, I should perform some feature development. "
   ]
  },
  {
   "cell_type": "markdown",
   "metadata": {},
   "source": [
    "### Data type conversions"
   ]
  },
  {
   "cell_type": "code",
   "execution_count": 9,
   "metadata": {},
   "outputs": [
    {
     "name": "stdout",
     "output_type": "stream",
     "text": [
      "<class 'pandas.core.frame.DataFrame'>\n",
      "RangeIndex: 18484 entries, 0 to 18483\n",
      "Data columns (total 17 columns):\n",
      " #   Column                Non-Null Count  Dtype         \n",
      "---  ------                --------------  -----         \n",
      " 0   BusinessEntityID      18484 non-null  category      \n",
      " 1   EmailPromotion        18484 non-null  category      \n",
      " 2   rowguid               18484 non-null  object        \n",
      " 3   ModifiedDate          18484 non-null  datetime64[ns]\n",
      " 4   TotalPurchaseYTD      18484 non-null  float64       \n",
      " 5   DateFirstPurchase     18484 non-null  datetime64[ns]\n",
      " 6   BirthDate             18484 non-null  datetime64[ns]\n",
      " 7   MaritalStatus         18484 non-null  category      \n",
      " 8   YearlyIncome          18484 non-null  category      \n",
      " 9   Gender                18484 non-null  category      \n",
      " 10  TotalChildren         18484 non-null  int64         \n",
      " 11  NumberChildrenAtHome  18484 non-null  int64         \n",
      " 12  Education             18484 non-null  category      \n",
      " 13  Occupation            18484 non-null  category      \n",
      " 14  HomeOwnerFlag         18484 non-null  int64         \n",
      " 15  NumberCarsOwned       18484 non-null  int64         \n",
      " 16  CommuteDistance       18484 non-null  category      \n",
      "dtypes: category(8), datetime64[ns](3), float64(1), int64(4), object(1)\n",
      "memory usage: 2.1+ MB\n"
     ]
    }
   ],
   "source": [
    "# Float conversions\n",
    "person_in['TotalPurchaseYTD'] = person_in['TotalPurchaseYTD'].astype(float)\n",
    "\n",
    "# Datetime conversions\n",
    "person_in['DateFirstPurchase'] = pd.to_datetime(person_in['DateFirstPurchase'], format='%Y-%m-%dZ')\n",
    "person_in['BirthDate'] = pd.to_datetime(person_in['BirthDate'], format='%Y-%m-%dZ')\n",
    "person_in['ModifiedDate'] = pd.to_datetime(person_in['ModifiedDate'])\n",
    "\n",
    "# Category conversions\n",
    "person_in['BusinessEntityID'] = person_in['BusinessEntityID'].astype('category')\n",
    "person_in['MaritalStatus'] = person_in['MaritalStatus'].astype('category')\n",
    "person_in['YearlyIncome'] = person_in['YearlyIncome'].astype('category')\n",
    "person_in['Gender'] = person_in['Gender'].astype('category')\n",
    "person_in['Education'] = person_in['Education'].astype('category')\n",
    "person_in['Occupation'] = person_in['Occupation'].astype('category')\n",
    "person_in['CommuteDistance'] = person_in['CommuteDistance'].astype('category')\n",
    "\n",
    "# Define promotional email mapping dict\n",
    "promo_email_mapping_dict = {\n",
    "    0: 'no_email_promos',\n",
    "    1: 'aw_email_promos',\n",
    "    2: 'aw_plus_email_promos'\n",
    "}\n",
    "# Apply promo email mapping dict\n",
    "person_in['EmailPromotion'] = person_in['EmailPromotion'].replace(promo_email_mapping_dict)\n",
    "\n",
    "# Category conversion\n",
    "person_in['EmailPromotion'] = person_in['EmailPromotion'].astype('category')\n",
    "\n",
    "# Integer conversions\n",
    "person_in['TotalChildren'] = person_in['TotalChildren'].astype(int)\n",
    "person_in['NumberChildrenAtHome'] = person_in['NumberChildrenAtHome'].astype(int)\n",
    "person_in['HomeOwnerFlag'] = person_in['HomeOwnerFlag'].astype(int)\n",
    "person_in['NumberCarsOwned'] = person_in['NumberCarsOwned'].astype(int)\n",
    "\n",
    "# Inspect\n",
    "person_in.info()"
   ]
  },
  {
   "cell_type": "markdown",
   "metadata": {},
   "source": [
    "### Feature extraction"
   ]
  },
  {
   "cell_type": "code",
   "execution_count": null,
   "metadata": {},
   "outputs": [],
   "source": [
    "def calculate_age(birthdate, reference_date):\n",
    "    \"\"\"\n",
    "    Calculate age in years from birthdate to a given reference date.\n",
    "\n",
    "    Args:\n",
    "    birthdate (pd.Series): Pandas Series of birth dates.\n",
    "    reference_date (pd.Timestamp): The date from which to calculate the age.\n",
    "\n",
    "    Returns:\n",
    "    pd.Series: Age in years on the reference date.\n",
    "    \"\"\"\n",
    "    return (reference_date - birthdate).dt.days // 365\n",
    "\n",
    "def days_since_date(first_purchase_date, reference_date):\n",
    "    \"\"\"\n",
    "    Calculate time in days since the first purchase date to a given reference date.\n",
    "\n",
    "    Args:\n",
    "    first_purchase_date (pd.Series): Pandas Series of first purchase dates.\n",
    "    reference_date (pd.Timestamp): The date from which to calculate the years since first purchase.\n",
    "\n",
    "    Returns:\n",
    "    pd.Series: Days from first purchase to the reference date.\n",
    "    \"\"\"\n",
    "    return (reference_date - first_purchase_date).dt.days \n"
   ]
  },
  {
   "cell_type": "code",
   "execution_count": 10,
   "metadata": {},
   "outputs": [
    {
     "ename": "NameError",
     "evalue": "name 'calculate_age' is not defined",
     "output_type": "error",
     "traceback": [
      "\u001b[0;31m---------------------------------------------------------------------------\u001b[0m",
      "\u001b[0;31mNameError\u001b[0m                                 Traceback (most recent call last)",
      "Cell \u001b[0;32mIn[10], line 5\u001b[0m\n\u001b[1;32m      2\u001b[0m reference_date \u001b[38;5;241m=\u001b[39m pd\u001b[38;5;241m.\u001b[39mTimestamp(\u001b[38;5;124m'\u001b[39m\u001b[38;5;124m2024-01-01\u001b[39m\u001b[38;5;124m'\u001b[39m) \n\u001b[1;32m      4\u001b[0m \u001b[38;5;66;03m# Apply the functions to calculate age and time in days since first purchase\u001b[39;00m\n\u001b[0;32m----> 5\u001b[0m person_in[\u001b[38;5;124m'\u001b[39m\u001b[38;5;124mAge\u001b[39m\u001b[38;5;124m'\u001b[39m] \u001b[38;5;241m=\u001b[39m \u001b[43mcalculate_age\u001b[49m(person_in[\u001b[38;5;124m'\u001b[39m\u001b[38;5;124mBirthDate\u001b[39m\u001b[38;5;124m'\u001b[39m], reference_date)\n\u001b[1;32m      6\u001b[0m person_in[\u001b[38;5;124m'\u001b[39m\u001b[38;5;124mDaysSinceFirstPurchase\u001b[39m\u001b[38;5;124m'\u001b[39m] \u001b[38;5;241m=\u001b[39m days_since_date(person_in[\u001b[38;5;124m'\u001b[39m\u001b[38;5;124mDateFirstPurchase\u001b[39m\u001b[38;5;124m'\u001b[39m], reference_date)\n\u001b[1;32m      8\u001b[0m \u001b[38;5;66;03m# Calculate years since first purchase as a more intuitive measure\u001b[39;00m\n",
      "\u001b[0;31mNameError\u001b[0m: name 'calculate_age' is not defined"
     ]
    }
   ],
   "source": [
    "# Set a reference date\n",
    "reference_date = pd.Timestamp('2024-01-01') \n",
    "\n",
    "# Apply the functions to calculate age and time in days since first purchase\n",
    "person_in['Age'] = calculate_age(person_in['BirthDate'], reference_date)\n",
    "person_in['DaysSinceFirstPurchase'] = days_since_date(person_in['DateFirstPurchase'], reference_date)\n",
    "\n",
    "# Calculate years since first purchase as a more intuitive measure\n",
    "person_in['YearsSinceFirstPurchase'] = person_in['DaysSinceFirstPurchase'] / 365\n",
    "\n",
    "# Drop columns\n",
    "person_in = person_in.drop(['BirthDate', 'DateFirstPurchase', 'ModifiedDate', 'DaysSinceFirstPurchase'], axis = 1)\n",
    "\n",
    "# Inspect\n",
    "person_in.head()"
   ]
  },
  {
   "cell_type": "markdown",
   "metadata": {},
   "source": [
    "## **Exploratory Data Analysis**\n",
    "\n",
    "We can perform some exploratory data analysis to better understand the data. "
   ]
  },
  {
   "cell_type": "markdown",
   "metadata": {},
   "source": [
    "### Number of unique individuals"
   ]
  },
  {
   "cell_type": "code",
   "execution_count": null,
   "metadata": {},
   "outputs": [
    {
     "name": "stdout",
     "output_type": "stream",
     "text": [
      "\n",
      "      Number of records: 18484\n",
      "      Number of unique IDS: 18484\n",
      "      Number of duplicates (not including unique ID): 0\n",
      "      \n"
     ]
    }
   ],
   "source": [
    "n_records = person_in.shape[0]\n",
    "n_individuals = person_in.BusinessEntityID.nunique()\n",
    "n_duplicates = person_in.drop(columns=['BusinessEntityID']).duplicated(keep=False).sum()\n",
    "\n",
    "print(f\"\"\"\n",
    "      Number of records: {n_records}\n",
    "      Number of unique IDS: {n_individuals}\n",
    "      Number of duplicates (not including unique ID): {n_duplicates}\n",
    "      \"\"\")"
   ]
  },
  {
   "cell_type": "markdown",
   "metadata": {},
   "source": [
    "> ☝ **Findings** and⚡ **Actions**:\n",
    "\n",
    "1. There are approximately 18,400 unique customers included in this dataset. \n",
    "2. There are no duplicate records and no action needs to be taken. "
   ]
  },
  {
   "cell_type": "markdown",
   "metadata": {},
   "source": [
    "### Individuals receiving promotional emails"
   ]
  },
  {
   "cell_type": "code",
   "execution_count": null,
   "metadata": {},
   "outputs": [
    {
     "name": "stderr",
     "output_type": "stream",
     "text": [
      "/tmp/ipykernel_1993/3540824660.py:9: FutureWarning: \n",
      "\n",
      "Passing `palette` without assigning `hue` is deprecated and will be removed in v0.14.0. Assign the `x` variable to `hue` and set `legend=False` for the same effect.\n",
      "\n",
      "  sns.barplot(x=promo_email_values.index,\n"
     ]
    },
    {
     "data": {
      "image/png": "[encoded data removed]",
      "text/plain": [
       "<Figure size 600x500 with 1 Axes>"
      ]
     },
     "metadata": {},
     "output_type": "display_data"
    },
    {
     "data": {
      "text/plain": [
       "EmailPromotion\n",
       "no_email_promos         0.558916\n",
       "aw_email_promos         0.252489\n",
       "aw_plus_email_promos    0.188596\n",
       "Name: proportion, dtype: float64"
      ]
     },
     "execution_count": 12,
     "metadata": {},
     "output_type": "execute_result"
    }
   ],
   "source": [
    "# Extract promotional email preference value counts\n",
    "promo_email_values = person_in.EmailPromotion.value_counts(normalize=True)\n",
    "\n",
    "# Setting the seaborn style to \"whitegrid\" for better grid visibility\n",
    "sns.set_style(\"whitegrid\")\n",
    "\n",
    "# Plot the values using seaborn barplot\n",
    "plt.figure(figsize=(6, 5))\n",
    "sns.barplot(x=promo_email_values.index,\n",
    "            y=promo_email_values.values, palette='Set2')\n",
    "plt.title('Email Promotion Consent')\n",
    "plt.xlabel('Promotion Consent')\n",
    "plt.ylabel('Percentage')\n",
    "plt.show()\n",
    "\n",
    "# Print values too \n",
    "promo_email_values"
   ]
  },
  {
   "cell_type": "markdown",
   "metadata": {},
   "source": [
    "> ☝ **Findings** and⚡ **Actions**:\n",
    "\n",
    "1. Slightly over half customers have opted out of promotional emails, around a quarter have opted in to promotional emails from Adventure Works, and around 19% have opted in to emails from both Adventure Works and selected partners. \n",
    "2. This could be valuable information for segmentation, assuming that customers who have opted in to promotional emails are more engaged with Adventure Works and may have different spending habits. \n",
    "3. I'll examine TotalPurchaseYTD for each of these groups to check this."
   ]
  },
  {
   "cell_type": "code",
   "execution_count": null,
   "metadata": {},
   "outputs": [
    {
     "name": "stderr",
     "output_type": "stream",
     "text": [
      "/tmp/ipykernel_1993/3417089161.py:4: FutureWarning: \n",
      "\n",
      "Passing `palette` without assigning `hue` is deprecated and will be removed in v0.14.0. Assign the `x` variable to `hue` and set `legend=False` for the same effect.\n",
      "\n",
      "  sns.boxplot(x='EmailPromotion', y='TotalPurchaseYTD', data=person_in, palette='Set2')\n"
     ]
    },
    {
     "data": {
      "image/png": "[encoded data removed]",
      "text/plain": [
       "<Figure size 700x500 with 1 Axes>"
      ]
     },
     "metadata": {},
     "output_type": "display_data"
    }
   ],
   "source": [
    "# Plot distributions of TotalPurchaseYTD per group\n",
    "sns.set_style(\"whitegrid\")  \n",
    "plt.figure(figsize=(7, 5))\n",
    "sns.boxplot(x='EmailPromotion', y='TotalPurchaseYTD', data=person_in, palette='Set2')\n",
    "plt.title('Total Purchase YTD by Email Promotion Group')\n",
    "plt.show()"
   ]
  },
  {
   "cell_type": "markdown",
   "metadata": {},
   "source": [
    "> ☝ **Findings** and⚡ **Actions**:\n",
    "\n",
    "1. Interestngly, there are large numbers of negative spend values for each group. This could indicate that `TotalPurchaseYTD` column records profit and not purchase amount, and that these customers recieved a number of refunds. Or, more likely, that these negative values are errors which need to be corrected or excluded. \n",
    "2. In a real business setting it would be crucial to investigate these values in more detail, but for the purposes of this analysis I'll assume they are mistakes and remove them. "
   ]
  },
  {
   "cell_type": "code",
   "execution_count": 12,
   "metadata": {},
   "outputs": [
    {
     "name": "stderr",
     "output_type": "stream",
     "text": [
      "/tmp/ipykernel_12568/3118851528.py:7: FutureWarning: \n",
      "\n",
      "Passing `palette` without assigning `hue` is deprecated and will be removed in v0.14.0. Assign the `x` variable to `hue` and set `legend=False` for the same effect.\n",
      "\n",
      "  sns.boxplot(x='EmailPromotion', y='TotalPurchaseYTD', data=person_in_filtered, palette='Set2')\n"
     ]
    },
    {
     "data": {
      "image/png": "[encoded data removed]",
      "text/plain": [
       "<Figure size 700x500 with 1 Axes>"
      ]
     },
     "metadata": {},
     "output_type": "display_data"
    },
    {
     "name": "stdout",
     "output_type": "stream",
     "text": [
      "\n",
      "      Customers excluded: 7580\n",
      "      Remaining customers: 10904\n",
      "\n"
     ]
    }
   ],
   "source": [
    "# Exclude rows where TotalPurchaseYTD is less than 0\n",
    "person_in_filtered = person_in[person_in['TotalPurchaseYTD'] >= 0]\n",
    "\n",
    "# Plot distributions of TotalPurchaseYTD per group\n",
    "sns.set_style(\"whitegrid\")  \n",
    "plt.figure(figsize=(7, 5))\n",
    "sns.boxplot(x='EmailPromotion', y='TotalPurchaseYTD', data=person_in_filtered, palette='Set2')\n",
    "plt.title('Total Purchase YTD by Email Promotion Group (Filtered)')\n",
    "plt.show()\n",
    "\n",
    "# Check number of reocrds excluded by filtering\n",
    "print(f\"\"\"\n",
    "      Customers excluded: {person_in.shape[0] - person_in_filtered.shape[0]}\n",
    "      Remaining customers: {person_in_filtered.shape[0]}\n",
    "\"\"\")"
   ]
  },
  {
   "cell_type": "markdown",
   "metadata": {},
   "source": [
    "> ☝ **Findings** and⚡ **Actions**:\n",
    "\n",
    "1. The range and median values for all groups look very similar, indicating that promotional emails do not significantly affect purchasing on average. \n",
    "2. The presence of outliers for all groups shows that there are a number of \"high value\" customers. These will be a valuable segment to understand in further analysis. "
   ]
  },
  {
   "cell_type": "markdown",
   "metadata": {},
   "source": [
    "### Year to date purchase amount"
   ]
  },
  {
   "cell_type": "code",
   "execution_count": 17,
   "metadata": {},
   "outputs": [
    {
     "data": {
      "image/png": "[encoded data removed]",
      "text/plain": [
       "<Figure size 1200x600 with 2 Axes>"
      ]
     },
     "metadata": {},
     "output_type": "display_data"
    }
   ],
   "source": [
    "# Set whitegrid as the aesthetic style again \n",
    "sns.set(style=\"whitegrid\")\n",
    "\n",
    "# Create subplots for side-by-side plotting\n",
    "fig, axes = plt.subplots(1, 2, figsize=(12, 6))  # 1 row, 2 columns\n",
    "\n",
    "# Boxplot on the first subplot\n",
    "sns.boxplot(x=person_in_filtered['TotalPurchaseYTD'], ax=axes[0])\n",
    "axes[0].set_title('Box Plot of Float Column')\n",
    "\n",
    "# KDE plot on the second subplot\n",
    "sns.kdeplot(person_in_filtered['TotalPurchaseYTD'], ax=axes[1])\n",
    "axes[1].set_title('KDE Plot of Float Column')\n",
    "\n",
    "# Automatically adjust subplot parameters to give specified padding\n",
    "plt.tight_layout()\n",
    "\n",
    "# Display the plots\n",
    "plt.show()"
   ]
  },
  {
   "cell_type": "code",
   "execution_count": 15,
   "metadata": {},
   "outputs": [
    {
     "data": {
      "image/png": "[encoded data removed]",
      "text/plain": [
       "<Figure size 640x480 with 1 Axes>"
      ]
     },
     "metadata": {},
     "output_type": "display_data"
    }
   ],
   "source": [
    "# sns.violinplot(x=person_in_filtered['TotalPurchaseYTD'])\n",
    "# plt.show()\n",
    "\n",
    "sns.kdeplot(person_in_filtered['TotalPurchaseYTD'])\n",
    "plt.show()\n"
   ]
  },
  {
   "cell_type": "code",
   "execution_count": 13,
   "metadata": {},
   "outputs": [
    {
     "data": {
      "text/plain": [
       "count    10904.000000\n",
       "mean       949.513152\n",
       "std       1177.739444\n",
       "min          0.000000\n",
       "25%         30.310000\n",
       "50%        518.981800\n",
       "75%       1666.000000\n",
       "max       9650.760000\n",
       "Name: TotalPurchaseYTD, dtype: float64"
      ]
     },
     "execution_count": 13,
     "metadata": {},
     "output_type": "execute_result"
    }
   ],
   "source": [
    "person_in_filtered.TotalPurchaseYTD.describe()"
   ]
  },
  {
   "cell_type": "markdown",
   "metadata": {},
   "source": [
    "> ☝ **Findings** and⚡ **Actions**:\n",
    "\n",
    "1. Interestingly, more than a quarter of customers have negative yearly purchase amounts. \n",
    "2. This could indicate that the `TotalPurchaseYTD` column records profit made from customers purchases and not the total value, or that they have recieved a number of refunds.\n",
    "3. Understanding and predicting customers whose purchases result in negative profit will likely be an important thing to identify, so let's create a new feature we can use for this.  "
   ]
  },
  {
   "cell_type": "code",
   "execution_count": 21,
   "metadata": {},
   "outputs": [
    {
     "data": {
      "text/html": [
       "<div>\n",
       "<style scoped>\n",
       "    .dataframe tbody tr th:only-of-type {\n",
       "        vertical-align: middle;\n",
       "    }\n",
       "\n",
       "    .dataframe tbody tr th {\n",
       "        vertical-align: top;\n",
       "    }\n",
       "\n",
       "    .dataframe thead th {\n",
       "        text-align: right;\n",
       "    }\n",
       "</style>\n",
       "<table border=\"1\" class=\"dataframe\">\n",
       "  <thead>\n",
       "    <tr style=\"text-align: right;\">\n",
       "      <th></th>\n",
       "      <th>BusinessEntityID</th>\n",
       "      <th>EmailPromotion</th>\n",
       "      <th>rowguid</th>\n",
       "      <th>TotalPurchaseYTD</th>\n",
       "      <th>MaritalStatus</th>\n",
       "      <th>YearlyIncome</th>\n",
       "      <th>Gender</th>\n",
       "      <th>TotalChildren</th>\n",
       "      <th>NumberChildrenAtHome</th>\n",
       "      <th>Education</th>\n",
       "      <th>Occupation</th>\n",
       "      <th>HomeOwnerFlag</th>\n",
       "      <th>NumberCarsOwned</th>\n",
       "      <th>CommuteDistance</th>\n",
       "      <th>Age</th>\n",
       "      <th>YearsSinceFirstPurchase</th>\n",
       "      <th>NonNegativePurchase</th>\n",
       "      <th>NonNegativePurchaseYTD</th>\n",
       "      <th>PositivePurchaseYTD</th>\n",
       "    </tr>\n",
       "  </thead>\n",
       "  <tbody>\n",
       "    <tr>\n",
       "      <th>0</th>\n",
       "      <td>1722</td>\n",
       "      <td>no_email_promos</td>\n",
       "      <td>6F123B92-FF1E-4F18-A054-F1477D965B36</td>\n",
       "      <td>3499.8504</td>\n",
       "      <td>S</td>\n",
       "      <td>0-25000</td>\n",
       "      <td>F</td>\n",
       "      <td>0</td>\n",
       "      <td>0</td>\n",
       "      <td>Partial High School</td>\n",
       "      <td>Manual</td>\n",
       "      <td>0</td>\n",
       "      <td>2</td>\n",
       "      <td>0-1 Miles</td>\n",
       "      <td>49</td>\n",
       "      <td>20.660274</td>\n",
       "      <td>1</td>\n",
       "      <td>1</td>\n",
       "      <td>1</td>\n",
       "    </tr>\n",
       "    <tr>\n",
       "      <th>1</th>\n",
       "      <td>2389</td>\n",
       "      <td>no_email_promos</td>\n",
       "      <td>0BB7741C-53C5-4502-AABC-AA3E798EC6E7</td>\n",
       "      <td>1085.5000</td>\n",
       "      <td>S</td>\n",
       "      <td>25001-50000</td>\n",
       "      <td>F</td>\n",
       "      <td>5</td>\n",
       "      <td>5</td>\n",
       "      <td>High School</td>\n",
       "      <td>Skilled Manual</td>\n",
       "      <td>1</td>\n",
       "      <td>3</td>\n",
       "      <td>10+ Miles</td>\n",
       "      <td>56</td>\n",
       "      <td>20.252055</td>\n",
       "      <td>1</td>\n",
       "      <td>1</td>\n",
       "      <td>1</td>\n",
       "    </tr>\n",
       "    <tr>\n",
       "      <th>2</th>\n",
       "      <td>2391</td>\n",
       "      <td>no_email_promos</td>\n",
       "      <td>D2535AEE-7780-4CAC-9737-5D23895FD5B5</td>\n",
       "      <td>36.5900</td>\n",
       "      <td>S</td>\n",
       "      <td>greater than 100000</td>\n",
       "      <td>F</td>\n",
       "      <td>0</td>\n",
       "      <td>5</td>\n",
       "      <td>Partial College</td>\n",
       "      <td>Management</td>\n",
       "      <td>1</td>\n",
       "      <td>3</td>\n",
       "      <td>10+ Miles</td>\n",
       "      <td>50</td>\n",
       "      <td>21.627397</td>\n",
       "      <td>1</td>\n",
       "      <td>1</td>\n",
       "      <td>1</td>\n",
       "    </tr>\n",
       "    <tr>\n",
       "      <th>3</th>\n",
       "      <td>2397</td>\n",
       "      <td>no_email_promos</td>\n",
       "      <td>09FB996B-2BD4-454F-A9D2-F0F307D13039</td>\n",
       "      <td>-3.9900</td>\n",
       "      <td>S</td>\n",
       "      <td>25001-50000</td>\n",
       "      <td>F</td>\n",
       "      <td>0</td>\n",
       "      <td>0</td>\n",
       "      <td>Partial High School</td>\n",
       "      <td>Clerical</td>\n",
       "      <td>1</td>\n",
       "      <td>2</td>\n",
       "      <td>5-10 Miles</td>\n",
       "      <td>45</td>\n",
       "      <td>20.164384</td>\n",
       "      <td>0</td>\n",
       "      <td>0</td>\n",
       "      <td>0</td>\n",
       "    </tr>\n",
       "    <tr>\n",
       "      <th>4</th>\n",
       "      <td>2401</td>\n",
       "      <td>no_email_promos</td>\n",
       "      <td>D319CB69-2139-4F0C-AEA6-541B3D5B0412</td>\n",
       "      <td>12.9900</td>\n",
       "      <td>M</td>\n",
       "      <td>25001-50000</td>\n",
       "      <td>F</td>\n",
       "      <td>2</td>\n",
       "      <td>0</td>\n",
       "      <td>Bachelors</td>\n",
       "      <td>Management</td>\n",
       "      <td>1</td>\n",
       "      <td>2</td>\n",
       "      <td>5-10 Miles</td>\n",
       "      <td>84</td>\n",
       "      <td>19.558904</td>\n",
       "      <td>1</td>\n",
       "      <td>1</td>\n",
       "      <td>1</td>\n",
       "    </tr>\n",
       "  </tbody>\n",
       "</table>\n",
       "</div>"
      ],
      "text/plain": [
       "  BusinessEntityID   EmailPromotion                               rowguid  \\\n",
       "0             1722  no_email_promos  6F123B92-FF1E-4F18-A054-F1477D965B36   \n",
       "1             2389  no_email_promos  0BB7741C-53C5-4502-AABC-AA3E798EC6E7   \n",
       "2             2391  no_email_promos  D2535AEE-7780-4CAC-9737-5D23895FD5B5   \n",
       "3             2397  no_email_promos  09FB996B-2BD4-454F-A9D2-F0F307D13039   \n",
       "4             2401  no_email_promos  D319CB69-2139-4F0C-AEA6-541B3D5B0412   \n",
       "\n",
       "   TotalPurchaseYTD MaritalStatus         YearlyIncome Gender  TotalChildren  \\\n",
       "0         3499.8504             S              0-25000      F              0   \n",
       "1         1085.5000             S          25001-50000      F              5   \n",
       "2           36.5900             S  greater than 100000      F              0   \n",
       "3           -3.9900             S          25001-50000      F              0   \n",
       "4           12.9900             M          25001-50000      F              2   \n",
       "\n",
       "   NumberChildrenAtHome            Education      Occupation  HomeOwnerFlag  \\\n",
       "0                     0  Partial High School          Manual              0   \n",
       "1                     5          High School  Skilled Manual              1   \n",
       "2                     5      Partial College      Management              1   \n",
       "3                     0  Partial High School        Clerical              1   \n",
       "4                     0           Bachelors       Management              1   \n",
       "\n",
       "   NumberCarsOwned CommuteDistance  Age  YearsSinceFirstPurchase  \\\n",
       "0                2       0-1 Miles   49                20.660274   \n",
       "1                3       10+ Miles   56                20.252055   \n",
       "2                3       10+ Miles   50                21.627397   \n",
       "3                2      5-10 Miles   45                20.164384   \n",
       "4                2      5-10 Miles   84                19.558904   \n",
       "\n",
       "   NonNegativePurchase  NonNegativePurchaseYTD  PositivePurchaseYTD  \n",
       "0                    1                       1                    1  \n",
       "1                    1                       1                    1  \n",
       "2                    1                       1                    1  \n",
       "3                    0                       0                    0  \n",
       "4                    1                       1                    1  "
      ]
     },
     "execution_count": 21,
     "metadata": {},
     "output_type": "execute_result"
    }
   ],
   "source": [
    "# Create a binary column indicating if TotalPurchaseYTD non-negative\n",
    "person_in['PositivePurchaseYTD'] = (person_in['TotalPurchaseYTD'] >= 0).astype(int)\n",
    "\n",
    "# Inspect\n",
    "person_in.head()"
   ]
  },
  {
   "cell_type": "markdown",
   "metadata": {},
   "source": [
    "### Marital status"
   ]
  },
  {
   "cell_type": "code",
   "execution_count": 22,
   "metadata": {},
   "outputs": [
    {
     "data": {
      "text/plain": [
       "MaritalStatus\n",
       "M    0.541604\n",
       "S    0.458396\n",
       "Name: proportion, dtype: float64"
      ]
     },
     "execution_count": 22,
     "metadata": {},
     "output_type": "execute_result"
    }
   ],
   "source": [
    "person_in.MaritalStatus.value_counts(normalize=True)"
   ]
  },
  {
   "cell_type": "markdown",
   "metadata": {},
   "source": [
    "> ☝ **Findings** and⚡ **Actions**:\n",
    "\n",
    "Slightly over half our customers are married. "
   ]
  },
  {
   "cell_type": "markdown",
   "metadata": {},
   "source": []
  }
 ],
 "metadata": {
  "kernelspec": {
   "display_name": "Python 3",
   "language": "python",
   "name": "python3"
  },
  "language_info": {
   "codemirror_mode": {
    "name": "ipython",
    "version": 3
   },
   "file_extension": ".py",
   "mimetype": "text/x-python",
   "name": "python",
   "nbconvert_exporter": "python",
   "pygments_lexer": "ipython3",
   "version": "3.12.1"
  }
 },
 "nbformat": 4,
 "nbformat_minor": 2
}
